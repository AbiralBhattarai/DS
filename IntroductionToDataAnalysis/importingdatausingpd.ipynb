{
 "cells": [
  {
   "cell_type": "code",
   "execution_count": 5,
   "metadata": {},
   "outputs": [],
   "source": [
    "import pandas as pd\n"
   ]
  },
  {
   "cell_type": "markdown",
   "metadata": {},
   "source": [
    "Reading excel files"
   ]
  },
  {
   "cell_type": "code",
   "execution_count": 8,
   "metadata": {},
   "outputs": [
    {
     "name": "stdout",
     "output_type": "stream",
     "text": [
      "            item  qty  price\n",
      "0            egg   30     15\n",
      "1          bread    2    200\n",
      "2  peanut butter    1    400\n",
      "3            jam    1    267\n",
      "4        chicken    2   1000\n"
     ]
    }
   ],
   "source": [
    "df = pd.read_excel('Book1.xlsx')\n",
    "print(df)"
   ]
  },
  {
   "cell_type": "code",
   "execution_count": 14,
   "metadata": {},
   "outputs": [
    {
     "name": "stdout",
     "output_type": "stream",
     "text": [
      "               qty  price\n",
      "item                     \n",
      "egg             30     15\n",
      "bread            2    200\n",
      "peanut butter    1    400\n",
      "jam              1    267\n",
      "chicken          2   1000\n"
     ]
    }
   ],
   "source": [
    "df = pd.read_excel('Book1.xlsx',index_col=0)\n",
    "print(df)"
   ]
  },
  {
   "cell_type": "code",
   "execution_count": 16,
   "metadata": {},
   "outputs": [
    {
     "name": "stdout",
     "output_type": "stream",
     "text": [
      "               0    1      2\n",
      "0           item  qty  price\n",
      "1            egg   30     15\n",
      "2          bread    2    200\n",
      "3  peanut butter    1    400\n",
      "4            jam    1    267\n",
      "5        chicken    2   1000\n"
     ]
    }
   ],
   "source": [
    "df = pd.read_excel('Book1.xlsx',header=None)\n",
    "print(df)"
   ]
  },
  {
   "cell_type": "code",
   "execution_count": 17,
   "metadata": {},
   "outputs": [
    {
     "name": "stdout",
     "output_type": "stream",
     "text": [
      "            item  qty   price\n",
      "0            egg   30    15.0\n",
      "1          bread    2   200.0\n",
      "2  peanut butter    1   400.0\n",
      "3            jam    1   267.0\n",
      "4        chicken    2  1000.0\n"
     ]
    }
   ],
   "source": [
    "df = pd.read_excel('Book1.xlsx',dtype={\n",
    "    'item':str,\n",
    "    'qty':int,\n",
    "    'price':float\n",
    "})\n",
    "print(df)"
   ]
  },
  {
   "cell_type": "code",
   "execution_count": 19,
   "metadata": {},
   "outputs": [
    {
     "name": "stdout",
     "output_type": "stream",
     "text": [
      "            item  qty  price\n",
      "0            egg   30     15\n",
      "1          bread    2    200\n",
      "2  peanut butter    1    400\n",
      "3            jam    1    267\n",
      "4        chicken    2   1000\n"
     ]
    }
   ],
   "source": []
  },
  {
   "cell_type": "markdown",
   "metadata": {},
   "source": [
    "Reading Text files\n"
   ]
  },
  {
   "cell_type": "code",
   "execution_count": 21,
   "metadata": {},
   "outputs": [
    {
     "name": "stdout",
     "output_type": "stream",
     "text": [
      "  Batsman  Bowler\n",
      "0   Rohit  Bumrah\n",
      "1   Virat   Siraj\n",
      "2   Rahul   Shami\n",
      "3   Dhoni  Ashwin\n",
      "4   Raina  Jadeja\n"
     ]
    }
   ],
   "source": [
    "df = pd.read_csv('x.txt',sep=' ')\n",
    "print(df)"
   ]
  },
  {
   "cell_type": "code",
   "execution_count": 22,
   "metadata": {},
   "outputs": [
    {
     "name": "stdout",
     "output_type": "stream",
     "text": [
      "         0       1\n",
      "0  Batsman  Bowler\n",
      "1    Rohit  Bumrah\n",
      "2    Virat   Siraj\n",
      "3    Rahul   Shami\n",
      "4    Dhoni  Ashwin\n",
      "5    Raina  Jadeja\n"
     ]
    }
   ],
   "source": [
    "df = pd.read_csv('x.txt',sep=' ',header=None)\n",
    "print(df)"
   ]
  },
  {
   "cell_type": "code",
   "execution_count": 23,
   "metadata": {},
   "outputs": [
    {
     "name": "stdout",
     "output_type": "stream",
     "text": [
      "     Team1   Team2\n",
      "0  Batsman  Bowler\n",
      "1    Rohit  Bumrah\n",
      "2    Virat   Siraj\n",
      "3    Rahul   Shami\n",
      "4    Dhoni  Ashwin\n",
      "5    Raina  Jadeja\n"
     ]
    }
   ],
   "source": [
    "df = pd.read_csv('x.txt',sep=' ',header = None,names=['Team1','Team2'])\n",
    "print(df)"
   ]
  },
  {
   "cell_type": "code",
   "execution_count": 24,
   "metadata": {},
   "outputs": [
    {
     "name": "stdout",
     "output_type": "stream",
     "text": [
      "  Batsman  Bowler\n",
      "0   Rohit  Bumrah\n",
      "1   Virat   Siraj\n",
      "2   Rahul   Shami\n",
      "3   Dhoni  Ashwin\n",
      "4   Raina  Jadeja\n"
     ]
    }
   ],
   "source": [
    "df = pd.read_table('x.txt',delimiter=' ')\n",
    "print(df)"
   ]
  },
  {
   "cell_type": "code",
   "execution_count": 25,
   "metadata": {},
   "outputs": [
    {
     "name": "stdout",
     "output_type": "stream",
     "text": [
      "         0       1\n",
      "0  Batsman  Bowler\n",
      "1    Rohit  Bumrah\n",
      "2    Virat   Siraj\n",
      "3    Rahul   Shami\n",
      "4    Dhoni  Ashwin\n",
      "5    Raina  Jadeja\n"
     ]
    }
   ],
   "source": [
    "df = pd.read_table('x.txt',delimiter=' ',header = None)\n",
    "print(df)"
   ]
  },
  {
   "cell_type": "code",
   "execution_count": 26,
   "metadata": {},
   "outputs": [
    {
     "name": "stdout",
     "output_type": "stream",
     "text": [
      "  Batsman Bowler\n",
      "0   Rohit Bumrah\n",
      "1    Virat Siraj\n",
      "2    Rahul Shami\n",
      "3   Dhoni Ashwin\n",
      "4   Raina Jadeja\n"
     ]
    }
   ],
   "source": [
    "df = pd.read_fwf('x.txt')\n",
    "print(df)"
   ]
  },
  {
   "cell_type": "markdown",
   "metadata": {},
   "source": [
    "Reading JSON"
   ]
  },
  {
   "cell_type": "code",
   "execution_count": 30,
   "metadata": {},
   "outputs": [],
   "source": [
    "import json"
   ]
  },
  {
   "cell_type": "code",
   "execution_count": 31,
   "metadata": {},
   "outputs": [
    {
     "name": "stdout",
     "output_type": "stream",
     "text": [
      "       0    1    2    3    4    5\n",
      "One   60   60   60   45   45   60\n",
      "Two  110  117  103  109  117  102\n"
     ]
    },
    {
     "name": "stderr",
     "output_type": "stream",
     "text": [
      "C:\\Users\\Lenovo\\AppData\\Local\\Temp\\ipykernel_17268\\2430723808.py:20: FutureWarning: Passing literal json to 'read_json' is deprecated and will be removed in a future version. To read from a literal string, wrap it in a 'StringIO' object.\n",
      "  df_read_json=pd.read_json(json.dumps(data),orient='index')\n"
     ]
    }
   ],
   "source": [
    "data = {\n",
    "    \"One\": {\n",
    "        \"0\": 60,\n",
    "        \"1\": 60,\n",
    "        \"2\": 60,\n",
    "        \"3\": 45,\n",
    "        \"4\": 45,\n",
    "        \"5\": 60\n",
    "    },\n",
    "    \"Two\": {\n",
    "        \"0\": 110,\n",
    "        \"1\": 117,\n",
    "        \"2\": 103,\n",
    "        \"3\": 109,\n",
    "        \"4\": 117,\n",
    "        \"5\": 102\n",
    "    }\n",
    "}\n",
    "\n",
    "df_read_json=pd.read_json(json.dumps(data),orient='index')\n",
    "print(df_read_json)"
   ]
  },
  {
   "cell_type": "code",
   "execution_count": 34,
   "metadata": {},
   "outputs": [
    {
     "name": "stdout",
     "output_type": "stream",
     "text": [
      "   One.0  One.1  One.2  One.3  One.4  One.5  Two.0  Two.1  Two.2  Two.3  \\\n",
      "0     60     60     60     45     45     60    110    117    103    109   \n",
      "\n",
      "   Two.4  Two.5  \n",
      "0    117    102  \n"
     ]
    }
   ],
   "source": [
    "json_data= json.dumps(data)\n",
    "df_json=pd.json_normalize(json.loads(json_data))\n",
    "print(df_json)"
   ]
  },
  {
   "cell_type": "code",
   "execution_count": 35,
   "metadata": {},
   "outputs": [
    {
     "name": "stdout",
     "output_type": "stream",
     "text": [
      "   One  Two\n",
      "0   60  110\n",
      "1   60  117\n",
      "2   60  103\n",
      "3   45  109\n",
      "4   45  117\n",
      "5   60  102\n"
     ]
    }
   ],
   "source": [
    "df = pd.DataFrame(data)\n",
    "print(df)"
   ]
  }
 ],
 "metadata": {
  "kernelspec": {
   "display_name": "Python 3",
   "language": "python",
   "name": "python3"
  },
  "language_info": {
   "codemirror_mode": {
    "name": "ipython",
    "version": 3
   },
   "file_extension": ".py",
   "mimetype": "text/x-python",
   "name": "python",
   "nbconvert_exporter": "python",
   "pygments_lexer": "ipython3",
   "version": "3.11.0"
  }
 },
 "nbformat": 4,
 "nbformat_minor": 2
}
