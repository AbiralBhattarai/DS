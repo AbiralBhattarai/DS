{
 "cells": [
  {
   "cell_type": "code",
   "execution_count": 2,
   "metadata": {},
   "outputs": [],
   "source": [
    "import numpy as np"
   ]
  },
  {
   "cell_type": "code",
   "execution_count": 4,
   "metadata": {},
   "outputs": [
    {
     "name": "stdout",
     "output_type": "stream",
     "text": [
      "a [[ -679356286   -24378004]\n",
      " [    4903948 -1175639720]]\n",
      " \n",
      "b [108 377] \n",
      "\n",
      "c[[6.23042070e-307 4.67296746e-307 1.69121096e-306]\n",
      " [1.33511290e-306 6.23058368e-307 2.22526399e-307]\n",
      " [6.23053614e-307 7.56592338e-307 7.99992413e-312]]\n"
     ]
    }
   ],
   "source": [
    "#creating arrays using numpy\n",
    "a = np.empty([2,2],dtype=int)\n",
    "b = np.empty(2,dtype=int)\n",
    "c = np.empty([3,3])\n",
    "print(f\"a {a}\\n \\nb {b} \\n\\nc{c}\")"
   ]
  },
  {
   "cell_type": "code",
   "execution_count": 6,
   "metadata": {},
   "outputs": [
    {
     "name": "stdout",
     "output_type": "stream",
     "text": [
      "a [[0 0]\n",
      " [0 0]]\n",
      " \n",
      "b [0 0] \n",
      "\n",
      "c[[0 0 0]\n",
      " [0 0 0]\n",
      " [0 0 0]]\n"
     ]
    }
   ],
   "source": [
    "#creating arrays using numpy.zeros\n",
    "b = np.zeros(2,dtype=int)\n",
    "a = np.zeros([2,2],dtype=int)\n",
    "c = np.zeros([3,3],dtype=int)\n",
    "print(f\"a {a}\\n \\nb {b} \\n\\nc{c}\")"
   ]
  },
  {
   "cell_type": "code",
   "execution_count": 7,
   "metadata": {},
   "outputs": [
    {
     "name": "stdout",
     "output_type": "stream",
     "text": [
      "[  7  77  23 110]\n",
      "[  7  77  23 110]\n"
     ]
    }
   ],
   "source": [
    "#numpy operations\n",
    "#1.Addition\n",
    "a = np.array([5,72,13,100])\n",
    "b = np.array([2,5,10,10])\n",
    "print(a+b)\n",
    "print(np.add(a,b))"
   ]
  },
  {
   "cell_type": "code",
   "execution_count": 10,
   "metadata": {},
   "outputs": [
    {
     "name": "stdout",
     "output_type": "stream",
     "text": [
      "[  8  78  24 111]\n",
      "[  8  78  24 111]\n"
     ]
    }
   ],
   "source": [
    "#numpy operations\n",
    "#1.Addition\n",
    "a = np.array([5,72,13,100])\n",
    "b = np.array([2,5,10,10])\n",
    "c = np.array([1,1,1,1])\n",
    "print(a+b+c)\n",
    "d = np.add(a,b)\n",
    "print(np.add(c,d))\n",
    "\n",
    "\n",
    "#subtraction,division,multiplication are similar"
   ]
  },
  {
   "cell_type": "code",
   "execution_count": 11,
   "metadata": {},
   "outputs": [
    {
     "name": "stdout",
     "output_type": "stream",
     "text": [
      "[ 3 67  3 70]\n",
      "[ 3 67  3 70]\n"
     ]
    }
   ],
   "source": [
    "# Defining both the matrices\n",
    "a = np.array([5, 72, 13, 100])\n",
    "b = np.array([2, 5, 10, 30])\n",
    "\n",
    "# Performing subtraction using arithmetic operator\n",
    "sub_ans = a-b\n",
    "print(sub_ans)\n",
    "\n",
    "# Performing subtraction using numpy function\n",
    "sub_ans = np.subtract(a, b)\n",
    "print(sub_ans)"
   ]
  },
  {
   "cell_type": "code",
   "execution_count": 12,
   "metadata": {},
   "outputs": [
    {
     "name": "stdout",
     "output_type": "stream",
     "text": [
      "[  10  360  130 3000]\n",
      "[  10  360  130 3000]\n"
     ]
    }
   ],
   "source": [
    "# Defining both the matrices\n",
    "a = np.array([5, 72, 13, 100])\n",
    "b = np.array([2, 5, 10, 30])\n",
    "\n",
    "# Performing multiplication using arithmetic\n",
    "# operator\n",
    "mul_ans = a*b\n",
    "print(mul_ans)\n",
    "\n",
    "# Performing multiplication using numpy function\n",
    "mul_ans = np.multiply(a, b)\n",
    "print(mul_ans)"
   ]
  },
  {
   "cell_type": "code",
   "execution_count": 13,
   "metadata": {},
   "outputs": [
    {
     "name": "stdout",
     "output_type": "stream",
     "text": [
      "[ 2.5        14.4         1.3         3.33333333]\n",
      "[ 2.5        14.4         1.3         3.33333333]\n"
     ]
    }
   ],
   "source": [
    "# Defining both the matrices\n",
    "a = np.array([5, 72, 13, 100])\n",
    "b = np.array([2, 5, 10, 30])\n",
    "\n",
    "# Performing division using arithmetic operators\n",
    "div_ans = a/b\n",
    "print(div_ans)\n",
    "\n",
    "# Performing division using numpy functions\n",
    "div_ans = np.divide(a, b)\n",
    "print(div_ans)"
   ]
  },
  {
   "cell_type": "code",
   "execution_count": 16,
   "metadata": {},
   "outputs": [
    {
     "name": "stdout",
     "output_type": "stream",
     "text": [
      "[10  8  6  4  2]\n",
      "[4 8 6]\n"
     ]
    }
   ],
   "source": [
    "#numpy array indexing\n",
    "a = np.arange(10,1,-2)\n",
    "print(a)\n",
    "newarr = a[np.array([3,1,2])]\n",
    "print(newarr)"
   ]
  },
  {
   "cell_type": "code",
   "execution_count": 3,
   "metadata": {},
   "outputs": [
    {
     "name": "stdout",
     "output_type": "stream",
     "text": [
      "[ 0  1  2  3  4  5  6  7  8  9 10 11 12 13 14 15 16 17 18 19]\n",
      "[12 14 16]\n",
      "[10 11 12 13 14 15 16 17 18 19]\n"
     ]
    }
   ],
   "source": [
    "#numpy array slicing\n",
    "a = np.arange(20)\n",
    "print(a)\n",
    "print(a[-8:17:2])\n",
    "print(a[10:])"
   ]
  },
  {
   "cell_type": "code",
   "execution_count": 9,
   "metadata": {},
   "outputs": [
    {
     "name": "stdout",
     "output_type": "stream",
     "text": [
      "3\n"
     ]
    },
    {
     "data": {
      "text/plain": [
       "array([[  2.4,   8.7,  31.2],\n",
       "       [157.2,  70.8, 292. ],\n",
       "       [165.6,  95.1, 191.2],\n",
       "       [ 43.2,  33. ,  39.2]])"
      ]
     },
     "execution_count": 9,
     "metadata": {},
     "output_type": "execute_result"
    }
   ],
   "source": [
    "#numpy array broadcasting\n",
    "macros = np.array([\n",
    "[0.8, 2.9, 3.9],\n",
    "[52.4, 23.6, 36.5],\n",
    "[55.2, 31.7, 23.9],\n",
    "[14.4, 11, 4.9]\n",
    "])\n",
    "print(macros.shape)\n",
    "\n",
    "# Create a new array filled with zeros,\n",
    "# of the same shape as macros.\n",
    "result = np.zeros_like(macros)\n",
    "\n",
    "cal_per_macro = np.array([3, 3, 8])\n",
    "\n",
    "# Now multiply each row of macros by\n",
    "# cal_per_macro. In Numpy, `*` is\n",
    "# element-wise multiplication between two arrays.\n",
    "for i in range(macros.shape[0]):\n",
    "    result[i, :] = macros[i, :] * cal_per_macro\n",
    "\n",
    "result"
   ]
  },
  {
   "cell_type": "code",
   "execution_count": 10,
   "metadata": {},
   "outputs": [
    {
     "name": "stdout",
     "output_type": "stream",
     "text": [
      "[[ 540  660]\n",
      " [1080 1320]\n",
      " [1620 1980]]\n",
      "[[ 24  46  69]\n",
      " [ 57  79 102]]\n"
     ]
    }
   ],
   "source": [
    "v = np.array([12, 24, 36])\n",
    "w = np.array([45, 55])\n",
    "\n",
    "# To compute an outer product we first\n",
    "# reshape v to a column vector of shape 3x1\n",
    "# then broadcast it against w to yield an output\n",
    "# of shape 3x2 which is the outer product of v and w\n",
    "print(np.reshape(v, (3, 1)) * w)\n",
    "\n",
    "X = np.array([[12, 22, 33], [45, 55, 66]])\n",
    "\n",
    "# x has shape 2x3 and v has shape (3, )\n",
    "# so they broadcast to 2x3,\n",
    "print(X + v)\n"
   ]
  },
  {
   "cell_type": "code",
   "execution_count": null,
   "metadata": {},
   "outputs": [],
   "source": []
  }
 ],
 "metadata": {
  "kernelspec": {
   "display_name": "Python 3",
   "language": "python",
   "name": "python3"
  },
  "language_info": {
   "codemirror_mode": {
    "name": "ipython",
    "version": 3
   },
   "file_extension": ".py",
   "mimetype": "text/x-python",
   "name": "python",
   "nbconvert_exporter": "python",
   "pygments_lexer": "ipython3",
   "version": "3.11.0"
  }
 },
 "nbformat": 4,
 "nbformat_minor": 2
}
