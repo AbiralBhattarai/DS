{
 "cells": [
  {
   "cell_type": "code",
   "execution_count": 1,
   "id": "16704672",
   "metadata": {},
   "outputs": [
    {
     "name": "stdout",
     "output_type": "stream",
     "text": [
      "7.5\n",
      "22\n"
     ]
    }
   ],
   "source": [
    "#1 functions\n",
    "def linear (x,w=2,b=3.5):\n",
    "    return w*x+b\n",
    "\n",
    "def quadratic(x,a=1,b=2,c=3):\n",
    "    return a*x**3+b*x**2+c*x\n",
    "\n",
    "print(linear(2))\n",
    "print(quadratic(2))"
   ]
  },
  {
   "cell_type": "code",
   "execution_count": 5,
   "id": "871b59a8",
   "metadata": {},
   "outputs": [
    {
     "name": "stdout",
     "output_type": "stream",
     "text": [
      "4\n"
     ]
    }
   ],
   "source": [
    "#2 Limits\n",
    "import sympy as sp\n",
    "\n",
    "x = sp.symbols('x')\n",
    "f = (x**2-4)/(x-2)\n",
    "limit_value = sp.limit(f,x,2)\n",
    "print(limit_value)"
   ]
  },
  {
   "cell_type": "code",
   "execution_count": null,
   "id": "7b98c5a4",
   "metadata": {},
   "outputs": [],
   "source": []
  }
 ],
 "metadata": {
  "kernelspec": {
   "display_name": "Python 3",
   "language": "python",
   "name": "python3"
  },
  "language_info": {
   "codemirror_mode": {
    "name": "ipython",
    "version": 3
   },
   "file_extension": ".py",
   "mimetype": "text/x-python",
   "name": "python",
   "nbconvert_exporter": "python",
   "pygments_lexer": "ipython3",
   "version": "3.11.0"
  }
 },
 "nbformat": 4,
 "nbformat_minor": 5
}
