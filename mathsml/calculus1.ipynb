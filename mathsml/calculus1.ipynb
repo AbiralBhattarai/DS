{
 "cells": [
  {
   "cell_type": "code",
   "execution_count": 1,
   "id": "16704672",
   "metadata": {},
   "outputs": [
    {
     "name": "stdout",
     "output_type": "stream",
     "text": [
      "7.5\n",
      "22\n"
     ]
    }
   ],
   "source": [
    "#1 functions\n",
    "def linear (x,w=2,b=3.5):\n",
    "    return w*x+b\n",
    "\n",
    "def quadratic(x,a=1,b=2,c=3):\n",
    "    return a*x**3+b*x**2+c*x\n",
    "\n",
    "print(linear(2))\n",
    "print(quadratic(2))"
   ]
  },
  {
   "cell_type": "code",
   "execution_count": 5,
   "id": "871b59a8",
   "metadata": {},
   "outputs": [
    {
     "name": "stdout",
     "output_type": "stream",
     "text": [
      "4\n"
     ]
    }
   ],
   "source": [
    "#2 Limits\n",
    "import sympy as sp\n",
    "\n",
    "x = sp.symbols('x')\n",
    "f = (x**2-4)/(x-2)\n",
    "limit_value = sp.limit(f,x,2)\n",
    "print(limit_value)"
   ]
  },
  {
   "cell_type": "code",
   "execution_count": 8,
   "id": "7b98c5a4",
   "metadata": {},
   "outputs": [
    {
     "name": "stdout",
     "output_type": "stream",
     "text": [
      "Derivative of f with respect to x : 6*x + cos(x) \n",
      "Derivative of f with respect to y: 3*y**2\n"
     ]
    }
   ],
   "source": [
    "x,y = sp.symbols('x y')\n",
    "f = 3*x**2 + sp.sin(x) + y**3\n",
    "dx = sp.diff(f,x)\n",
    "dy = sp.diff(f,y)\n",
    "print(f'Derivative of f with respect to x : {dx} \\nDerivative of f with respect to y: {dy}')\n"
   ]
  },
  {
   "cell_type": "code",
   "execution_count": 8,
   "id": "c1e25bf8",
   "metadata": {},
   "outputs": [
    {
     "name": "stdout",
     "output_type": "stream",
     "text": [
      "Estimeated minimum at x = 7.136238463529802e-05\n"
     ]
    }
   ],
   "source": [
    "#grad des simple example:\n",
    "import numpy as np\n",
    "\n",
    "def f(x):\n",
    "    return x**2\n",
    "\n",
    "def df(x):\n",
    "    return 2*x\n",
    "\n",
    "def grad_des(df,x0,lr=0.1,epochs=50):\n",
    "    x = x0\n",
    "    for i in range(epochs):\n",
    "        x = x-lr*df(x)\n",
    "    return x\n",
    "xmin = grad_des(df,x0=5)\n",
    "print(f\"Estimeated minimum at x = {xmin}\")"
   ]
  },
  {
   "cell_type": "code",
   "execution_count": null,
   "id": "d935eed8",
   "metadata": {},
   "outputs": [],
   "source": []
  }
 ],
 "metadata": {
  "kernelspec": {
   "display_name": "Python 3",
   "language": "python",
   "name": "python3"
  },
  "language_info": {
   "codemirror_mode": {
    "name": "ipython",
    "version": 3
   },
   "file_extension": ".py",
   "mimetype": "text/x-python",
   "name": "python",
   "nbconvert_exporter": "python",
   "pygments_lexer": "ipython3",
   "version": "3.11.0"
  }
 },
 "nbformat": 4,
 "nbformat_minor": 5
}
